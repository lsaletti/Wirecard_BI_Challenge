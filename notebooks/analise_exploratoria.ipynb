{
 "cells": [
  {
   "cell_type": "code",
   "execution_count": 1,
   "metadata": {},
   "outputs": [],
   "source": [
    "# ! pip install psycopg2"
   ]
  },
  {
   "cell_type": "code",
   "execution_count": 164,
   "metadata": {},
   "outputs": [],
   "source": [
    "data_path = '/home/jovyan/work/Wirecard/db/postgres/src/raw/'"
   ]
  },
  {
   "cell_type": "code",
   "execution_count": 110,
   "metadata": {},
   "outputs": [],
   "source": [
    "import pandas as pd\n",
    "# import psycopg2"
   ]
  },
  {
   "cell_type": "markdown",
   "metadata": {},
   "source": [
    "### Ler e analisar o arquivo \"acquirer_responses.csv\""
   ]
  },
  {
   "cell_type": "code",
   "execution_count": 111,
   "metadata": {},
   "outputs": [],
   "source": [
    "acquirer_responses = pd.read_csv('acquirer_responses.csv', sep=';')"
   ]
  },
  {
   "cell_type": "code",
   "execution_count": 112,
   "metadata": {},
   "outputs": [
    {
     "data": {
      "text/html": [
       "<div>\n",
       "<style scoped>\n",
       "    .dataframe tbody tr th:only-of-type {\n",
       "        vertical-align: middle;\n",
       "    }\n",
       "\n",
       "    .dataframe tbody tr th {\n",
       "        vertical-align: top;\n",
       "    }\n",
       "\n",
       "    .dataframe thead th {\n",
       "        text-align: right;\n",
       "    }\n",
       "</style>\n",
       "<table border=\"1\" class=\"dataframe\">\n",
       "  <thead>\n",
       "    <tr style=\"text-align: right;\">\n",
       "      <th></th>\n",
       "      <th>acquirer_responses_id</th>\n",
       "      <th>payment_id</th>\n",
       "      <th>acquirer_id</th>\n",
       "      <th>brand_id</th>\n",
       "      <th>acquirer_transaction_id</th>\n",
       "      <th>returned_code_id</th>\n",
       "      <th>transaction_datetime</th>\n",
       "      <th>amount</th>\n",
       "    </tr>\n",
       "  </thead>\n",
       "  <tbody>\n",
       "    <tr>\n",
       "      <th>0</th>\n",
       "      <td>16049274</td>\n",
       "      <td>102251414</td>\n",
       "      <td>3</td>\n",
       "      <td>1</td>\n",
       "      <td>5579493</td>\n",
       "      <td>1</td>\n",
       "      <td>01/01/18 11:13</td>\n",
       "      <td>214.76</td>\n",
       "    </tr>\n",
       "    <tr>\n",
       "      <th>1</th>\n",
       "      <td>16051543</td>\n",
       "      <td>102256593</td>\n",
       "      <td>3</td>\n",
       "      <td>2</td>\n",
       "      <td>5580699</td>\n",
       "      <td>1</td>\n",
       "      <td>01/01/18 14:32</td>\n",
       "      <td>41.65</td>\n",
       "    </tr>\n",
       "    <tr>\n",
       "      <th>2</th>\n",
       "      <td>16051543</td>\n",
       "      <td>102256593</td>\n",
       "      <td>3</td>\n",
       "      <td>2</td>\n",
       "      <td>5580700</td>\n",
       "      <td>12</td>\n",
       "      <td>01/01/18 14:32</td>\n",
       "      <td>41.65</td>\n",
       "    </tr>\n",
       "    <tr>\n",
       "      <th>3</th>\n",
       "      <td>16055961</td>\n",
       "      <td>102266298</td>\n",
       "      <td>3</td>\n",
       "      <td>1</td>\n",
       "      <td>5583065</td>\n",
       "      <td>1</td>\n",
       "      <td>01/01/18 19:34</td>\n",
       "      <td>27.74</td>\n",
       "    </tr>\n",
       "    <tr>\n",
       "      <th>4</th>\n",
       "      <td>16056575</td>\n",
       "      <td>102267764</td>\n",
       "      <td>1</td>\n",
       "      <td>2</td>\n",
       "      <td>10150253</td>\n",
       "      <td>2</td>\n",
       "      <td>01/01/18 20:15</td>\n",
       "      <td>71.97</td>\n",
       "    </tr>\n",
       "  </tbody>\n",
       "</table>\n",
       "</div>"
      ],
      "text/plain": [
       "   acquirer_responses_id  payment_id  acquirer_id  brand_id  \\\n",
       "0               16049274   102251414            3         1   \n",
       "1               16051543   102256593            3         2   \n",
       "2               16051543   102256593            3         2   \n",
       "3               16055961   102266298            3         1   \n",
       "4               16056575   102267764            1         2   \n",
       "\n",
       "   acquirer_transaction_id  returned_code_id transaction_datetime  amount  \n",
       "0                  5579493                 1       01/01/18 11:13  214.76  \n",
       "1                  5580699                 1       01/01/18 14:32   41.65  \n",
       "2                  5580700                12       01/01/18 14:32   41.65  \n",
       "3                  5583065                 1       01/01/18 19:34   27.74  \n",
       "4                 10150253                 2       01/01/18 20:15   71.97  "
      ]
     },
     "execution_count": 112,
     "metadata": {},
     "output_type": "execute_result"
    }
   ],
   "source": [
    "acquirer_responses.head(5)"
   ]
  },
  {
   "cell_type": "code",
   "execution_count": 113,
   "metadata": {},
   "outputs": [
    {
     "name": "stdout",
     "output_type": "stream",
     "text": [
      "<class 'pandas.core.frame.DataFrame'>\n",
      "RangeIndex: 6675 entries, 0 to 6674\n",
      "Data columns (total 8 columns):\n",
      "acquirer_responses_id      6675 non-null int64\n",
      "payment_id                 6675 non-null int64\n",
      "acquirer_id                6675 non-null int64\n",
      "brand_id                   6675 non-null int64\n",
      "acquirer_transaction_id    6675 non-null int64\n",
      "returned_code_id           6675 non-null int64\n",
      "transaction_datetime       6653 non-null object\n",
      "amount                     6265 non-null object\n",
      "dtypes: int64(6), object(2)\n",
      "memory usage: 417.3+ KB\n"
     ]
    }
   ],
   "source": [
    "acquirer_responses.info()"
   ]
  },
  {
   "cell_type": "code",
   "execution_count": 114,
   "metadata": {},
   "outputs": [
    {
     "data": {
      "text/plain": [
       "(6675, 8)"
      ]
     },
     "execution_count": 114,
     "metadata": {},
     "output_type": "execute_result"
    }
   ],
   "source": [
    "acquirer_responses.shape"
   ]
  },
  {
   "cell_type": "markdown",
   "metadata": {},
   "source": [
    "### Tirar registros duplicados"
   ]
  },
  {
   "cell_type": "code",
   "execution_count": 115,
   "metadata": {},
   "outputs": [],
   "source": [
    "acquirer_responses['acquirer_responses_id'].drop_duplicates(inplace=True)"
   ]
  },
  {
   "cell_type": "code",
   "execution_count": 116,
   "metadata": {},
   "outputs": [
    {
     "data": {
      "text/plain": [
       "(6675, 8)"
      ]
     },
     "execution_count": 116,
     "metadata": {},
     "output_type": "execute_result"
    }
   ],
   "source": [
    "acquirer_responses.shape"
   ]
  },
  {
   "cell_type": "code",
   "execution_count": 117,
   "metadata": {},
   "outputs": [
    {
     "data": {
      "text/plain": [
       "acquirer_responses_id        0\n",
       "payment_id                   0\n",
       "acquirer_id                  0\n",
       "brand_id                     0\n",
       "acquirer_transaction_id      0\n",
       "returned_code_id             0\n",
       "transaction_datetime        22\n",
       "amount                     410\n",
       "dtype: int64"
      ]
     },
     "execution_count": 117,
     "metadata": {},
     "output_type": "execute_result"
    }
   ],
   "source": [
    "acquirer_responses.isnull().sum()"
   ]
  },
  {
   "cell_type": "code",
   "execution_count": 118,
   "metadata": {},
   "outputs": [
    {
     "name": "stdout",
     "output_type": "stream",
     "text": [
      "<class 'pandas.core.frame.DataFrame'>\n",
      "RangeIndex: 6675 entries, 0 to 6674\n",
      "Data columns (total 8 columns):\n",
      "acquirer_responses_id      6675 non-null int64\n",
      "payment_id                 6675 non-null int64\n",
      "acquirer_id                6675 non-null int64\n",
      "brand_id                   6675 non-null int64\n",
      "acquirer_transaction_id    6675 non-null int64\n",
      "returned_code_id           6675 non-null int64\n",
      "transaction_datetime       6653 non-null object\n",
      "amount                     6265 non-null object\n",
      "dtypes: int64(6), object(2)\n",
      "memory usage: 415.8+ KB\n"
     ]
    }
   ],
   "source": [
    "acquirer_responses.info()"
   ]
  },
  {
   "cell_type": "markdown",
   "metadata": {},
   "source": [
    "### Transformar coluna \"amount\" em float"
   ]
  },
  {
   "cell_type": "code",
   "execution_count": 119,
   "metadata": {},
   "outputs": [
    {
     "data": {
      "text/html": [
       "<div>\n",
       "<style scoped>\n",
       "    .dataframe tbody tr th:only-of-type {\n",
       "        vertical-align: middle;\n",
       "    }\n",
       "\n",
       "    .dataframe tbody tr th {\n",
       "        vertical-align: top;\n",
       "    }\n",
       "\n",
       "    .dataframe thead th {\n",
       "        text-align: right;\n",
       "    }\n",
       "</style>\n",
       "<table border=\"1\" class=\"dataframe\">\n",
       "  <thead>\n",
       "    <tr style=\"text-align: right;\">\n",
       "      <th></th>\n",
       "      <th>acquirer_responses_id</th>\n",
       "      <th>payment_id</th>\n",
       "      <th>acquirer_id</th>\n",
       "      <th>brand_id</th>\n",
       "      <th>acquirer_transaction_id</th>\n",
       "      <th>returned_code_id</th>\n",
       "      <th>transaction_datetime</th>\n",
       "      <th>amount</th>\n",
       "    </tr>\n",
       "  </thead>\n",
       "  <tbody>\n",
       "    <tr>\n",
       "      <th>4508</th>\n",
       "      <td>29877499</td>\n",
       "      <td>129455174</td>\n",
       "      <td>4</td>\n",
       "      <td>1</td>\n",
       "      <td>1334613</td>\n",
       "      <td>12</td>\n",
       "      <td>25/09/18 15:34</td>\n",
       "      <td>26.416.000.000.000.000</td>\n",
       "    </tr>\n",
       "  </tbody>\n",
       "</table>\n",
       "</div>"
      ],
      "text/plain": [
       "      acquirer_responses_id  payment_id  acquirer_id  brand_id  \\\n",
       "4508               29877499   129455174            4         1   \n",
       "\n",
       "      acquirer_transaction_id  returned_code_id transaction_datetime  \\\n",
       "4508                  1334613                12       25/09/18 15:34   \n",
       "\n",
       "                      amount  \n",
       "4508  26.416.000.000.000.000  "
      ]
     },
     "execution_count": 119,
     "metadata": {},
     "output_type": "execute_result"
    }
   ],
   "source": [
    "acquirer_responses[acquirer_responses['amount'] == '26.416.000.000.000.000']"
   ]
  },
  {
   "cell_type": "code",
   "execution_count": 120,
   "metadata": {},
   "outputs": [],
   "source": [
    "def transform_column(column):\n",
    "    column = column.str.slice(stop=6)\n",
    "    return column"
   ]
  },
  {
   "cell_type": "code",
   "execution_count": 121,
   "metadata": {},
   "outputs": [
    {
     "data": {
      "text/plain": [
       "0       214.76\n",
       "1        41.65\n",
       "2        41.65\n",
       "3        27.74\n",
       "4        71.97\n",
       "         ...  \n",
       "6670        17\n",
       "6671        17\n",
       "6672       275\n",
       "6673       NaN\n",
       "6674        47\n",
       "Name: amount, Length: 6675, dtype: object"
      ]
     },
     "execution_count": 121,
     "metadata": {},
     "output_type": "execute_result"
    }
   ],
   "source": [
    "acquirer_responses['amount'] = transform_column(acquirer_responses['amount'])\n",
    "acquirer_responses['amount']"
   ]
  },
  {
   "cell_type": "markdown",
   "metadata": {},
   "source": [
    "### Tratar coluna \"amount\" nulas"
   ]
  },
  {
   "cell_type": "code",
   "execution_count": 122,
   "metadata": {},
   "outputs": [
    {
     "data": {
      "text/html": [
       "<div>\n",
       "<style scoped>\n",
       "    .dataframe tbody tr th:only-of-type {\n",
       "        vertical-align: middle;\n",
       "    }\n",
       "\n",
       "    .dataframe tbody tr th {\n",
       "        vertical-align: top;\n",
       "    }\n",
       "\n",
       "    .dataframe thead th {\n",
       "        text-align: right;\n",
       "    }\n",
       "</style>\n",
       "<table border=\"1\" class=\"dataframe\">\n",
       "  <thead>\n",
       "    <tr style=\"text-align: right;\">\n",
       "      <th></th>\n",
       "      <th>acquirer_responses_id</th>\n",
       "      <th>payment_id</th>\n",
       "      <th>acquirer_id</th>\n",
       "      <th>brand_id</th>\n",
       "      <th>acquirer_transaction_id</th>\n",
       "      <th>returned_code_id</th>\n",
       "      <th>transaction_datetime</th>\n",
       "      <th>amount</th>\n",
       "    </tr>\n",
       "  </thead>\n",
       "  <tbody>\n",
       "    <tr>\n",
       "      <th>23</th>\n",
       "      <td>16114296</td>\n",
       "      <td>102399620</td>\n",
       "      <td>2</td>\n",
       "      <td>2</td>\n",
       "      <td>445487</td>\n",
       "      <td>9</td>\n",
       "      <td>03/01/18 13:09</td>\n",
       "      <td>NaN</td>\n",
       "    </tr>\n",
       "    <tr>\n",
       "      <th>104</th>\n",
       "      <td>16339313</td>\n",
       "      <td>102902088</td>\n",
       "      <td>2</td>\n",
       "      <td>4</td>\n",
       "      <td>450637</td>\n",
       "      <td>1</td>\n",
       "      <td>09/01/18 10:31</td>\n",
       "      <td>NaN</td>\n",
       "    </tr>\n",
       "    <tr>\n",
       "      <th>105</th>\n",
       "      <td>16339313</td>\n",
       "      <td>102902088</td>\n",
       "      <td>2</td>\n",
       "      <td>4</td>\n",
       "      <td>450637</td>\n",
       "      <td>12</td>\n",
       "      <td>09/01/18 10:31</td>\n",
       "      <td>NaN</td>\n",
       "    </tr>\n",
       "    <tr>\n",
       "      <th>118</th>\n",
       "      <td>16364301</td>\n",
       "      <td>102955528</td>\n",
       "      <td>2</td>\n",
       "      <td>4</td>\n",
       "      <td>451272</td>\n",
       "      <td>1</td>\n",
       "      <td>09/01/18 17:57</td>\n",
       "      <td>NaN</td>\n",
       "    </tr>\n",
       "    <tr>\n",
       "      <th>156</th>\n",
       "      <td>16487386</td>\n",
       "      <td>103231479</td>\n",
       "      <td>2</td>\n",
       "      <td>1</td>\n",
       "      <td>454204</td>\n",
       "      <td>10</td>\n",
       "      <td>12/01/18 10:01</td>\n",
       "      <td>NaN</td>\n",
       "    </tr>\n",
       "    <tr>\n",
       "      <th>...</th>\n",
       "      <td>...</td>\n",
       "      <td>...</td>\n",
       "      <td>...</td>\n",
       "      <td>...</td>\n",
       "      <td>...</td>\n",
       "      <td>...</td>\n",
       "      <td>...</td>\n",
       "      <td>...</td>\n",
       "    </tr>\n",
       "    <tr>\n",
       "      <th>6659</th>\n",
       "      <td>36658359</td>\n",
       "      <td>141348539</td>\n",
       "      <td>2</td>\n",
       "      <td>2</td>\n",
       "      <td>1900991</td>\n",
       "      <td>2</td>\n",
       "      <td>30/12/18 19:40</td>\n",
       "      <td>NaN</td>\n",
       "    </tr>\n",
       "    <tr>\n",
       "      <th>6660</th>\n",
       "      <td>36659977</td>\n",
       "      <td>141350890</td>\n",
       "      <td>2</td>\n",
       "      <td>2</td>\n",
       "      <td>1901261</td>\n",
       "      <td>2</td>\n",
       "      <td>30/12/18 20:40</td>\n",
       "      <td>NaN</td>\n",
       "    </tr>\n",
       "    <tr>\n",
       "      <th>6664</th>\n",
       "      <td>36666170</td>\n",
       "      <td>141359149</td>\n",
       "      <td>2</td>\n",
       "      <td>1</td>\n",
       "      <td>1902344</td>\n",
       "      <td>2</td>\n",
       "      <td>31/12/18 00:01</td>\n",
       "      <td>NaN</td>\n",
       "    </tr>\n",
       "    <tr>\n",
       "      <th>6669</th>\n",
       "      <td>36685368</td>\n",
       "      <td>141386630</td>\n",
       "      <td>2</td>\n",
       "      <td>1</td>\n",
       "      <td>1905618</td>\n",
       "      <td>9</td>\n",
       "      <td>31/12/18 13:56</td>\n",
       "      <td>NaN</td>\n",
       "    </tr>\n",
       "    <tr>\n",
       "      <th>6673</th>\n",
       "      <td>36687196</td>\n",
       "      <td>141388928</td>\n",
       "      <td>2</td>\n",
       "      <td>1</td>\n",
       "      <td>1905896</td>\n",
       "      <td>10</td>\n",
       "      <td>31/12/18 14:40</td>\n",
       "      <td>NaN</td>\n",
       "    </tr>\n",
       "  </tbody>\n",
       "</table>\n",
       "<p>410 rows × 8 columns</p>\n",
       "</div>"
      ],
      "text/plain": [
       "      acquirer_responses_id  payment_id  acquirer_id  brand_id  \\\n",
       "23                 16114296   102399620            2         2   \n",
       "104                16339313   102902088            2         4   \n",
       "105                16339313   102902088            2         4   \n",
       "118                16364301   102955528            2         4   \n",
       "156                16487386   103231479            2         1   \n",
       "...                     ...         ...          ...       ...   \n",
       "6659               36658359   141348539            2         2   \n",
       "6660               36659977   141350890            2         2   \n",
       "6664               36666170   141359149            2         1   \n",
       "6669               36685368   141386630            2         1   \n",
       "6673               36687196   141388928            2         1   \n",
       "\n",
       "      acquirer_transaction_id  returned_code_id transaction_datetime amount  \n",
       "23                     445487                 9       03/01/18 13:09    NaN  \n",
       "104                    450637                 1       09/01/18 10:31    NaN  \n",
       "105                    450637                12       09/01/18 10:31    NaN  \n",
       "118                    451272                 1       09/01/18 17:57    NaN  \n",
       "156                    454204                10       12/01/18 10:01    NaN  \n",
       "...                       ...               ...                  ...    ...  \n",
       "6659                  1900991                 2       30/12/18 19:40    NaN  \n",
       "6660                  1901261                 2       30/12/18 20:40    NaN  \n",
       "6664                  1902344                 2       31/12/18 00:01    NaN  \n",
       "6669                  1905618                 9       31/12/18 13:56    NaN  \n",
       "6673                  1905896                10       31/12/18 14:40    NaN  \n",
       "\n",
       "[410 rows x 8 columns]"
      ]
     },
     "execution_count": 122,
     "metadata": {},
     "output_type": "execute_result"
    }
   ],
   "source": [
    "acquirer_responses[acquirer_responses['amount'].isnull()]"
   ]
  },
  {
   "cell_type": "code",
   "execution_count": 123,
   "metadata": {},
   "outputs": [
    {
     "data": {
      "text/plain": [
       "410"
      ]
     },
     "execution_count": 123,
     "metadata": {},
     "output_type": "execute_result"
    }
   ],
   "source": [
    "acquirer_responses['amount'].isnull().sum()"
   ]
  },
  {
   "cell_type": "code",
   "execution_count": 124,
   "metadata": {},
   "outputs": [],
   "source": [
    "acquirer_responses['amount'] = acquirer_responses['amount'].fillna(0)"
   ]
  },
  {
   "cell_type": "code",
   "execution_count": 125,
   "metadata": {},
   "outputs": [
    {
     "data": {
      "text/plain": [
       "0"
      ]
     },
     "execution_count": 125,
     "metadata": {},
     "output_type": "execute_result"
    }
   ],
   "source": [
    "acquirer_responses['amount'].isnull().sum()"
   ]
  },
  {
   "cell_type": "markdown",
   "metadata": {},
   "source": [
    "### Transformando a coluna em float"
   ]
  },
  {
   "cell_type": "code",
   "execution_count": 126,
   "metadata": {},
   "outputs": [],
   "source": [
    "acquirer_responses.amount = acquirer_responses.amount.astype(float)"
   ]
  },
  {
   "cell_type": "code",
   "execution_count": 127,
   "metadata": {},
   "outputs": [
    {
     "name": "stdout",
     "output_type": "stream",
     "text": [
      "<class 'pandas.core.frame.DataFrame'>\n",
      "RangeIndex: 6675 entries, 0 to 6674\n",
      "Data columns (total 8 columns):\n",
      "acquirer_responses_id      6675 non-null int64\n",
      "payment_id                 6675 non-null int64\n",
      "acquirer_id                6675 non-null int64\n",
      "brand_id                   6675 non-null int64\n",
      "acquirer_transaction_id    6675 non-null int64\n",
      "returned_code_id           6675 non-null int64\n",
      "transaction_datetime       6653 non-null object\n",
      "amount                     6675 non-null float64\n",
      "dtypes: float64(1), int64(6), object(1)\n",
      "memory usage: 417.3+ KB\n"
     ]
    }
   ],
   "source": [
    "acquirer_responses.info()"
   ]
  },
  {
   "cell_type": "code",
   "execution_count": 65,
   "metadata": {},
   "outputs": [],
   "source": [
    "# psql_dele_dias_semana = 'TRUNCATE TABLE wirecard.acquirer_responses;'\n",
    "# con.commit()\n",
    "# cur.execute(psql_dele_dias_semana)\n",
    "\n",
    "# psql=\"COPY  wirecard.acquirer_responses from 'acquirer_responses.csv' with delimiter ';' csv header encoding 'windows-1251';\"\n",
    "\n",
    "\n",
    "# con.commit()\n",
    "# cur.execute(psql)"
   ]
  }
 ],
 "metadata": {
  "kernelspec": {
   "display_name": "Python 3",
   "language": "python",
   "name": "python3"
  },
  "language_info": {
   "codemirror_mode": {
    "name": "ipython",
    "version": 3
   },
   "file_extension": ".py",
   "mimetype": "text/x-python",
   "name": "python",
   "nbconvert_exporter": "python",
   "pygments_lexer": "ipython3",
   "version": "3.7.3"
  }
 },
 "nbformat": 4,
 "nbformat_minor": 2
}
